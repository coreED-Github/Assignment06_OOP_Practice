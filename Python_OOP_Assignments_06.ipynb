{
  "nbformat": 4,
  "nbformat_minor": 0,
  "metadata": {
    "colab": {
      "provenance": [],
      "name": "Python OOP Assignments 06",
      "authorship_tag": "ABX9TyMVBHidnpYA4mtUXLkHbh3y",
      "include_colab_link": true
    },
    "kernelspec": {
      "name": "python3",
      "display_name": "Python 3"
    },
    "language_info": {
      "name": "python"
    }
  },
  "cells": [
    {
      "cell_type": "markdown",
      "metadata": {
        "id": "view-in-github",
        "colab_type": "text"
      },
      "source": [
        "<a href=\"https://colab.research.google.com/github/coreED-Github/Assignment06_OOP_Practice/blob/main/Python_OOP_Assignments_06.ipynb\" target=\"_parent\"><img src=\"https://colab.research.google.com/assets/colab-badge.svg\" alt=\"Open In Colab\"/></a>"
      ]
    },
    {
      "cell_type": "markdown",
      "source": [
        "**Python OOP Assignments 06: Exploring Key Concepts in Object-Oriented Programming\"**\n",
        "\n",
        "\n",
        "I completed the assignment & also explained it in Roman Urdu for review, detailing the steps I took and the reasons why I used specific methods or functions."
      ],
      "metadata": {
        "id": "4t7cIRhzfyYU"
      }
    },
    {
      "cell_type": "markdown",
      "source": [
        "**1. Using self (Student Class)**\n",
        "\n",
        "Pehle maine ek Student naam ki class banayi jo student ki details handle karti hai. Is class ke andar maine sabse pehle __init__ method use kia, jo object create hote waqt automatic chal jaata hai. Is method ke andar maine name aur marks ko parameters ke tor par liya aur self.name aur self.marks ke zariye unko object ke andar assign kia — yaani har student ka apna naam aur marks honge. Uske baad maine ek display() method banaya jo sirf student ki information, jaise uska naam aur uske marks, screen par print karta hai. Phir maine percentage() naam ka method banaya jo default tor par 100 total marks maan kar percentage calculate karta hai. Is method mein maine formula (self.marks / total_marks) * 100 use kia jo marks ko percentage mein tabdeel karta hai. Phir class ke bahar maine ek object s1 banaya jisme maine naam \"Siara\" aur marks 25 diye. Jab ye object bana to __init__ method ne in values ko object ke andar store kar diya. Uske baad maine s1.display() method call kia jisse screen par ye output aaya: Name: Siara, Marks: 25."
      ],
      "metadata": {
        "id": "QI6bvB17OvLN"
      }
    },
    {
      "cell_type": "code",
      "execution_count": null,
      "metadata": {
        "colab": {
          "base_uri": "https://localhost:8080/"
        },
        "id": "vZuDODrpOTim",
        "outputId": "6c645644-0f21-4cb2-eb5c-abe04cfe52ff"
      },
      "outputs": [
        {
          "output_type": "stream",
          "name": "stdout",
          "text": [
            "Name: Siara, Marks: 25\n",
            "Percentage: 25.00%\n"
          ]
        }
      ],
      "source": [
        "class Student:\n",
        "    def __init__(self, name, marks):\n",
        "        self.name = name\n",
        "        self.marks = marks\n",
        "\n",
        "    def display(self):\n",
        "        print(f\"Name: {self.name}, Marks: {self.marks}\")\n",
        "    def percentage(self, total_marks=100):\n",
        "        \"\"\"\n",
        "        Calculates percentage based on marks and total_marks.\n",
        "        Default total_marks = 100.\n",
        "        \"\"\"\n",
        "        return (self.marks / total_marks) * 100\n",
        "\n",
        "\n",
        "s1 = Student(\"Siara\", 25)\n",
        "s1.display()\n",
        "\n",
        "print(f\"Percentage: {s1.percentage():.2f}%\")"
      ]
    },
    {
      "cell_type": "markdown",
      "source": [
        "**2. Using cls (Counter Class)**\n",
        "\n",
        "Pehle maine ek Counter naam ki class banayi jisme maine ek class-level variable count rakha aur uski initial value 0 set ki. Iska matlab ye hai ke count saare objects ke liye common hoga, yaani ye class variable hai, har object ke liye alag nahi hoga. Phir maine __init__ method banaya jo har baar object banne par chalta hai. Uske andar maine Counter.count += 1 likha, jiska matlab hai ke jab bhi naya object banega to count ki value 1 se barh jaayegi — is tarah se object ka count track kiya ja raha hai. Uske baad maine @classmethod ke zariye display_count method banaya, jo class ke naam se call hota hai aur ye batata hai ke ab tak total kitne Counter objects create hue hain. Is method ke andar maine cls.count ka use kia, jiska matlab hai class ka count variable. Phir maine reset_count() naam ka ek aur class method banaya jo count ko dobara 0 pe set kar deta hai — is method ka kaam object count ko reset karna hai. Code ke neeche maine do objects banaye: c1 aur c2. Jab ye dono objects bane, to __init__ method do baar chala aur count ki value 2 ho gayi. Phir maine Counter.display_count() call kia, jisse screen par output aaya: Total Counter objects created: 2. Uske baad maine Counter.reset_count() method call kia jo count ko wapas 0 pe le gaya. Aur jab maine dobara display_count() method chalaya to output aaya: Total Counter objects created: 0."
      ],
      "metadata": {
        "id": "ofAAP4Yt35sH"
      }
    },
    {
      "cell_type": "code",
      "source": [
        "class Counter:\n",
        "    count = 0\n",
        "\n",
        "    def __init__(self):\n",
        "        Counter.count += 1\n",
        "\n",
        "    @classmethod\n",
        "    def display_count(cls):\n",
        "        print(f\"Total Counter objects created: {cls.count}\")\n",
        "\n",
        "    @classmethod\n",
        "    def reset_count(cls):\n",
        "        \"\"\"\n",
        "        Resets the object count back to 0.\n",
        "        \"\"\"\n",
        "        cls.count = 0\n",
        "c1 = Counter()\n",
        "c2 = Counter()\n",
        "Counter.display_count()\n",
        "Counter.reset_count()\n",
        "Counter.display_count()"
      ],
      "metadata": {
        "id": "qfooOuOi35cA",
        "colab": {
          "base_uri": "https://localhost:8080/"
        },
        "outputId": "63418632-f5c8-480c-d422-e0a6f7d07241"
      },
      "execution_count": null,
      "outputs": [
        {
          "output_type": "stream",
          "name": "stdout",
          "text": [
            "Total Counter objects created: 2\n",
            "Total Counter objects created: 0\n"
          ]
        }
      ]
    },
    {
      "cell_type": "markdown",
      "source": [
        "**3. Public Variables and Methods (Car Class)**\n",
        "\n",
        "Pehle maine ek Car naam ki class banayi jo kisi bhi car ka brand aur uske functions represent karti hai. Is class ke andar maine __init__ method banaya jo object banate waqt chal jaata hai. Usme maine brand naam ka parameter liya aur usay self.brand ke zariye store kar diya — ye ek public variable hai, jo class ke bahar se bhi access ho sakta hai. Iska matlab jab bhi koi car ka object banega, uska brand automatic store ho jaayega. Uske baad maine start() method banaya jo print karta hai ke car ka engine start ho gaya hai. Is method mein self.brand use karke brand ka naam print hota hai, taake pata chale kis car ki baat ho rahi hai. Phir maine horn() method banaya jisme likha gaya hai ke car horn bajaye — ye simulate karta hai horn ki awaaz Beep Beep! ke zariye. Code ke neeche maine my_car naam ka object banaya aur \"Honda Civic\" uska brand diya. Jab ye object bana to __init__ method chala aur brand self.brand mein store ho gaya. Phir maine print(my_car.brand) se brand screen par dikhaya, jiska output aaya \"Honda Civic\". Uske baad maine my_car.start() method call kia jo print karta hai \"Honda Civic engine started!\" aur my_car.horn() call karne se print hota hai \"Honda Civic says: Beep Beep!\"."
      ],
      "metadata": {
        "id": "6-zxcckj4NIK"
      }
    },
    {
      "cell_type": "code",
      "source": [
        "class Car:\n",
        "    def __init__(self, brand):\n",
        "        self.brand = brand\n",
        "\n",
        "    def start(self):\n",
        "        print(f\"{self.brand} engine started!\")\n",
        "    def horn(self):\n",
        "        \"\"\"\n",
        "        Simulates car horn sound.\n",
        "        \"\"\"\n",
        "        print(f\"{self.brand} says: Beep Beep!\")\n",
        "\n",
        "my_car = Car(\"Honda Civic\")\n",
        "print(my_car.brand)\n",
        "my_car.start()\n",
        "my_car.horn()"
      ],
      "metadata": {
        "id": "pEE-slpR3356",
        "colab": {
          "base_uri": "https://localhost:8080/"
        },
        "outputId": "68d47919-08fb-4021-9db3-11c70a1dc5fe"
      },
      "execution_count": null,
      "outputs": [
        {
          "output_type": "stream",
          "name": "stdout",
          "text": [
            "Honda Civic\n",
            "Honda Civic engine started!\n",
            "Honda Civic says: Beep Beep!\n"
          ]
        }
      ]
    },
    {
      "cell_type": "markdown",
      "source": [
        "**4. Class Variables and Class Methods (Bank Class)**\n",
        "\n",
        "Pehle maine ek Bank naam ki class banayi jo bank ki information aur account holders ka data handle karti hai. Sabse pehle maine bank_name naam ka ek class variable define kia aur uski initial value \"ABC Bank\" rakhi — ye variable har object ke liye same rahega, yaani ye class-level variable hai. Phir maine __init__ method banaya jo har naya object banate waqt chalta hai. Is method ke andar maine account_holder parameter liya aur usay self.account_holder mein store kar liya, jiska matlab hai har object ka apna account holder hoga.\n",
        "\n",
        "Uske baad maine change_bank_name naam ka ek @classmethod banaya jo cls keyword ke zariye bank ka naam change karta hai. Is method mein jo bhi naya naam diya jaye, wo cls.bank_name ke zariye update ho jaata hai. Phir maine display_info() method banaya jo har object ka account holder aur current bank name print karta hai. Isme maine Bank.bank_name use kia taake hamesha updated bank name show ho. Uske baad maine interest_rate naam ka aur ek class-level variable banaya jiska initial value 0.05 (yaani 5%) rakha.\n",
        "\n",
        "Phir maine change_interest_rate() naam ka class method banaya jo interest rate ko update karta hai — jab bhi is method ko call karenge, cls.interest_rate ki value update ho jaayegi. Code ke neeche maine do objects banaye: b1 (Saira ka account) aur b2 (Nasir ka account). Jab maine b1.display_info() aur b2.display_info() call kia, to output aaya: Bank: ABC Bank, Account Holder: Saira aur Bank: ABC Bank, Account Holder: Nasir. Phir maine class method Bank.change_bank_name(\"XYZ Bank\") call kia, jis se bank ka naam \"XYZ Bank\" ho gaya. Uske baad jab phir se display methods call huay, to updated naam ke sath output mila.\n",
        "\n",
        "Akhir mein maine interest rate ko print kia jo initially 0.05 tha, aur phir Bank.change_interest_rate(0.03) se interest rate ko 3% kar diya. Uske baad maine dobara interest rate print kia to output aaya 0.03."
      ],
      "metadata": {
        "id": "FmhVizc34mgF"
      }
    },
    {
      "cell_type": "code",
      "source": [
        "class Bank:\n",
        "    bank_name = \"ABC Bank\"\n",
        "\n",
        "    def __init__(self, account_holder):\n",
        "        self.account_holder = account_holder\n",
        "\n",
        "    @classmethod\n",
        "    def change_bank_name(cls, name):\n",
        "        cls.bank_name = name\n",
        "\n",
        "    def display_info(self):\n",
        "          print(f\"Bank: {Bank.bank_name}, Account Holder: {self.account_holder}\")\n",
        "    interest_rate = 0.05\n",
        "\n",
        "    @classmethod\n",
        "    def change_interest_rate(cls, rate):\n",
        "        \"\"\"\n",
        "        Changes the bank's interest rate.\n",
        "        \"\"\"\n",
        "        cls.interest_rate = rate\n",
        "b1 = Bank(\"Saira\")\n",
        "b2 = Bank(\"Nasir\")\n",
        "b1.display_info()\n",
        "b2.display_info()\n",
        "Bank.change_bank_name(\"XYZ Bank\")\n",
        "\n",
        "b1.display_info()\n",
        "b2.display_info()\n",
        "\n",
        "print(f\"Initial Interest Rate: {Bank.interest_rate}\")\n",
        "Bank.change_interest_rate(0.03)\n",
        "print(f\"New Interest Rate: {Bank.interest_rate}\")"
      ],
      "metadata": {
        "colab": {
          "base_uri": "https://localhost:8080/"
        },
        "id": "sRNH0IYQ4zsL",
        "outputId": "77cefd53-c069-4c96-be04-5ee53585968c"
      },
      "execution_count": null,
      "outputs": [
        {
          "output_type": "stream",
          "name": "stdout",
          "text": [
            "Bank: ABC Bank, Account Holder: Saira\n",
            "Bank: ABC Bank, Account Holder: Nasir\n",
            "Bank: XYZ Bank, Account Holder: Saira\n",
            "Bank: XYZ Bank, Account Holder: Nasir\n",
            "Initial Interest Rate: 0.05\n",
            "New Interest Rate: 0.03\n"
          ]
        }
      ]
    },
    {
      "cell_type": "markdown",
      "source": [
        "**5. Static Variables and Static Methods (MathUtils Class)**\n",
        "\n",
        "Sabse pehle maine ek class banayi jiska naam hai MathUtils. Ye class kisi bhi mathematical operations ke liye banaayi gayi hai jisme hume object banane ki zarurat nahi hoti. Isliye maine isme @staticmethod decorator ka use kiya — iska matlab hai ke ye methods directly class se call kiye ja sakte hain bina object banaye. Sabse pehle add() method banaya jisme do parameters a aur b liye aur unka sum return kia. Method ke upar @staticmethod lagaya, jo batata hai ke ye method kisi instance (object) se nahi balkay class se related hai.\n",
        "\n",
        "Uske baad maine multiply() method banaya jo a aur b ko multiply karta hai aur unka product return karta hai. Ispe bhi staticmethod decorator lagaya gaya. In dono methods ka fayda ye hai ke agar hume sirf simple math calculation karni ho bina kisi class ke object banaye, to hum easily MathUtils.add() ya MathUtils.multiply() ke zariye result le sakte hain.\n",
        "\n",
        "Neeche maine MathUtils.add(5, 7) ko call kiya, jo return karta hai 12 — isay sum_result variable mein store kar ke print kia: \"Sum: 12\". Phir MathUtils.multiply(5, 7) ko call kiya jo return karta hai 35 — isay product_result mein store kar ke print kia: \"Product: 35\".\n"
      ],
      "metadata": {
        "id": "p9l7Z__T5Dkg"
      }
    },
    {
      "cell_type": "code",
      "source": [
        "class MathUtils:\n",
        "    @staticmethod\n",
        "    def add(a, b):\n",
        "        \"\"\"\n",
        "        Returns the sum of a and b.\n",
        "        \"\"\"\n",
        "        return a + b\n",
        "    @staticmethod\n",
        "    def multiply(a, b):\n",
        "        \"\"\"\n",
        "        Returns the product of a and b.\n",
        "        \"\"\"\n",
        "        return a * b\n",
        "\n",
        "sum_result = MathUtils.add(5, 7)\n",
        "print(f\"Sum: {sum_result}\")\n",
        "product_result = MathUtils.multiply(5, 7)\n",
        "print(f\"Product: {product_result}\")"
      ],
      "metadata": {
        "id": "8x0Ttujm5NS8",
        "colab": {
          "base_uri": "https://localhost:8080/"
        },
        "outputId": "68275204-997d-4bd3-9a19-74570e159842"
      },
      "execution_count": null,
      "outputs": [
        {
          "output_type": "stream",
          "name": "stdout",
          "text": [
            "Sum: 12\n",
            "Product: 35\n"
          ]
        }
      ]
    },
    {
      "cell_type": "markdown",
      "source": [
        "**6. Constructors and Destructors (Logger Class)**\n",
        "\n",
        "Pehle maine Logger naam ki ek class banayi jo object creation aur destruction ko track karti hai. Is class ke andar do methods hain — ek __init__ aur doosra __del__.\n",
        "\n",
        "Sabse pehle, __init__ method ka kaam hai jab bhi ek naya object banaya jata hai, to uske andar jo code likha gaya ho, wo automatically execute ho jata hai. Is case mein, jab Logger ka object banaya jata hai, to print(\"Logger: An instance has been created.\") ka message display hota hai, jo batata hai ke object ka creation successful hai.\n",
        "\n",
        "Phir __del__ method ka kaam hai object ko destroy karte waqt, yaani jab Python garbage collector object ko memory se remove karta hai. Is method ke andar likha gaya code automatically tab execute hota hai jab object destroy hota hai, aur print(\"Logger: An instance is being destroyed.\") ka message show hota hai.\n",
        "\n",
        "Code ke neeche maine create_and_destroy() naam ka ek function banaya. Is function ke andar maine Logger ka ek object log banaya. Jab ye object log create hota hai, to __init__ method execute hota hai aur message \"Logger: An instance has been created.\" print hota hai. Phir, jab function apni execution complete karta hai, to function ke end par log object destroy hota hai aur __del__ method automatically call hota hai, jisse \"Logger: An instance is being destroyed.\" ka message print hota hai."
      ],
      "metadata": {
        "id": "Rpq8xG3V35EC"
      }
    },
    {
      "cell_type": "code",
      "source": [
        "class Logger:\n",
        "    def __init__(self):\n",
        "        print(\"Logger: An instance has been created.\")\n",
        "\n",
        "    def __del__(self):\n",
        "        print(\"Logger: An instance is being destroyed.\")\n",
        "def create_and_destroy():\n",
        "    log = Logger()\n",
        "    print(\"Inside function.\")\n",
        "\n",
        "create_and_destroy()"
      ],
      "metadata": {
        "colab": {
          "base_uri": "https://localhost:8080/"
        },
        "id": "2mY1cpee5iji",
        "outputId": "358a1975-f458-40a6-e05f-5613a5232784"
      },
      "execution_count": null,
      "outputs": [
        {
          "output_type": "stream",
          "name": "stdout",
          "text": [
            "Logger: An instance has been created.\n",
            "Inside function.\n",
            "Logger: An instance is being destroyed.\n"
          ]
        }
      ]
    },
    {
      "cell_type": "markdown",
      "source": [
        "**7. Access Modifiers: Public, Private, and Protected (Employee Class)**\n",
        "\n",
        "Pehle maine Employee naam ki class banayi, jo employee ke basic information ko handle karti hai. Is class ke constructor (__init__) mein maine teen attributes define kiye: name, salary, aur ssn (Social Security Number). In attributes mein se:\n",
        "\n",
        "name ek public variable hai, iska matlab hai ke isay object ke baad bhi directly access kiya ja sakta hai, jaise emp1.name.\n",
        "\n",
        "_salary ek protected variable hai, jo conventionally indicate karta hai ke isay child class mein access kiya ja sakta hai lekin outside class use karna theek nahi hota. Iska prefix _ se yeh indicate hota hai ke yeh variable protected hai.\n",
        "\n",
        "__ssn ek private variable hai, jo double underscore (__) se start hota hai. Iska matlab hai ke is variable ko class ke bahar se directly access nahi kiya ja sakta.\n",
        "\n",
        "Uske baad, display_info() method banaya, jo employee ka naam, salary aur SSN display karta hai. Jab emp1 ka object banaya aur uske baad emp1.name print kia, to name correctly print ho gaya. Phir emp1._salary ko print kiya, jo protected attribute hai, aur it also worked, kyunki protected variables ko class ke andar aur child class ke through access kiya ja sakta hai.\n",
        "\n",
        "Jab maine emp1.__ssn ko print karne ki koshish ki, to AttributeError aaya, kyunki __ssn ek private attribute hai jo directly access nahi kiya ja sakta. Is error ko handle karte hue, message print hota hai jo batata hai ke __ssn accessible nahi hai.\n",
        "\n",
        "Phir, maine emp1._Employee__ssn likh kar __ssn ko access kiya — ye technique \"name mangling\" ke zariye private variables ko access karne ki hai, jisme Python internally private variable ka naam change kar deta hai (yahan __ssn ko _Employee__ssn banane se).\n",
        "\n",
        "Akhir mein, emp1.display_info() call kiya gaya, jisme employee ke name, salary, aur SSN ko print kiya gaya.\n",
        "\n"
      ],
      "metadata": {
        "id": "cPfC5eYV5ved"
      }
    },
    {
      "cell_type": "code",
      "source": [
        "class Employee:\n",
        "    def __init__(self, name, salary, ssn):\n",
        "        #Public\n",
        "        self.name = name\n",
        "        # Protected\n",
        "        self._salary = salary\n",
        "        # Private\n",
        "        self.__ssn = ssn\n",
        "\n",
        "    def display_info(self):\n",
        "        print(f\"Name: {self.name}, Salary: {self._salary}, SSN: {self.__ssn}\")\n",
        "\n",
        "emp1 = Employee(\"Saira\", 50000, \"88899999\")\n",
        "print(emp1.name)\n",
        "\n",
        "print(emp1._salary)\n",
        "try:\n",
        "    print(emp1.__ssn)\n",
        "except AttributeError as e:\n",
        "    print(e)\n",
        "print(emp1._Employee__ssn)\n",
        "\n",
        "emp1.display_info()\n"
      ],
      "metadata": {
        "id": "wInhlDX857y4",
        "colab": {
          "base_uri": "https://localhost:8080/"
        },
        "outputId": "44e97110-47db-4561-a09d-cdaa9ea33c1c"
      },
      "execution_count": null,
      "outputs": [
        {
          "output_type": "stream",
          "name": "stdout",
          "text": [
            "Saira\n",
            "50000\n",
            "'Employee' object has no attribute '__ssn'\n",
            "88899999\n",
            "Name: Saira, Salary: 50000, SSN: 88899999\n"
          ]
        }
      ]
    },
    {
      "cell_type": "markdown",
      "source": [
        "**8. The super() Function (Person and Teacher)**\n",
        "\n",
        "Sabse pehle, maine ek Person class banayi jisme ek constructor __init__ hai jo ek name parameter leta hai aur isko object ke attribute self.name ke zariye initialize karta hai. Constructor ke andar ek print statement hai jo batata hai ke kis name ke liye Person class ka constructor call kiya gaya hai.\n",
        "\n",
        "Phir maine Teacher naam ki ek class banayi jo Person class se inherit karti hai. Inheritance ka matlab hai ke Teacher class ko Person class ka sab kuch mil jata hai. Iska matlab ye hai ke Teacher class mein jo attributes aur methods hain, wo Person class ke bhi ho sakte hain.\n",
        "\n",
        "Teacher class ke constructor __init__ mein pehle name aur subject ko initialize kiya gaya hai. Is constructor ke andar super().__init__(name) call kiya gaya hai, jo Person class ke constructor ko call karta hai aur name ko initialize karta hai. Is se yeh hota hai ke Teacher class ka object banate waqt pehle Person class ka constructor run hota hai, jisme name print hota hai. Phir Teacher class ka apna constructor run hota hai, jo teacher ke subject ko print karta hai.\n",
        "\n",
        "Jab maine teacher1 = Teacher(\"Sir Ali Jawwad\", \"Mathematics\") likha, to pehle Person constructor execute hota hai aur \"Person constructor called for Sir Ali Jawwad\" print hota hai. Phir Teacher constructor execute hota hai aur \"Teacher constructor called for Sir Ali Jawwad, Subject: Mathematics\" print hota hai."
      ],
      "metadata": {
        "id": "SnIjlPyo6Caf"
      }
    },
    {
      "cell_type": "code",
      "source": [
        "class Person:\n",
        "    def __init__(self, name):\n",
        "        self.name = name\n",
        "        print(f\"Person constructor called for {self.name}\")\n",
        "\n",
        "class Teacher(Person):\n",
        "    def __init__(self, name, subject):\n",
        "        super().__init__(name)\n",
        "        self.subject = subject\n",
        "        print(f\"Teacher constructor called for {self.name}, Subject: {self.subject}\")\n",
        "teacher1 = Teacher(\"Sir Ali Jawwad\", \"Mathematics\")"
      ],
      "metadata": {
        "id": "zkzB46Xl6CBg",
        "colab": {
          "base_uri": "https://localhost:8080/"
        },
        "outputId": "37183001-a7ed-4842-feed-7d8fdafb9635"
      },
      "execution_count": null,
      "outputs": [
        {
          "output_type": "stream",
          "name": "stdout",
          "text": [
            "Person constructor called for Sir Ali Jawwad\n",
            "Teacher constructor called for Sir Ali Jawwad, Subject: Mathematics\n"
          ]
        }
      ]
    },
    {
      "cell_type": "markdown",
      "source": [
        "**9. Abstract Classes and Methods (Shape and Rectangle)**\n",
        "\n",
        "Sabse pehle maine abc module se ABC (Abstract Base Class) aur abstractmethod import kiya, jo Python mein abstract classes banane ke liye use hota hai. Uske baad maine ek class banayi Shape naam se, jo ABC ko inherit karti hai. Is class mein ek area() naam ka method define kiya gaya hai, lekin uska koi implementation nahi diya gaya—sirf pass likha gaya hai. Aur is method ke upar @abstractmethod decorator lagaya gaya hai. Ye decorator yeh batata hai ke area() method har us class mein implement karna zaroori hoga jo Shape ko inherit karegi.\n",
        "\n",
        "Phir maine Rectangle naam ki ek subclass banayi jo Shape se inherit karti hai. Is class mein __init__ method ke zariye length aur width ke attributes ko initialize kiya gaya. Aur area() method ko override karke iska proper implementation diya gaya: return self.length * self.width. Matlab rectangle ka area calculate karne ka formula lagaya gaya.\n",
        "\n",
        "Phir maine rect = Rectangle(5, 3) likh kar ek rectangle object banaya jisme length 5 aur width 3 thi, aur rect.area() call karke area print karwaya jo output deta hai: 15.\n",
        "\n",
        "Akhri mein maine try-except block ka use kiya jahan Shape() ka object banane ki koshish ki gayi. Lekin kyunki Shape ek abstract class hai jisme abstract method area() defined hai (lekin implement nahi), isliye Python error deta hai agar kisi ne directly Shape ka object banane ki koshish ki. Yeh TypeError aata hai aur usko gracefully except block mein handle kiya gaya hai, jahan error message print hota hai."
      ],
      "metadata": {
        "id": "26ryLthW6ejn"
      }
    },
    {
      "cell_type": "code",
      "source": [
        "from abc import ABC, abstractmethod\n",
        "class Shape(ABC):\n",
        "    @abstractmethod\n",
        "    def area(self):\n",
        "        pass\n",
        "class Rectangle(Shape):\n",
        "    def __init__(self, length, width):\n",
        "        self.length = length\n",
        "        self.width = width\n",
        "\n",
        "    def area(self):\n",
        "        return self.length * self.width\n",
        "rect = Rectangle(5, 3)\n",
        "print(f\"Area of Rectangle: {rect.area()}\")\n",
        "try:\n",
        "    shape = Shape()\n",
        "except TypeError as e:\n",
        "    print(e)"
      ],
      "metadata": {
        "id": "jCd7tfxG6lrO",
        "colab": {
          "base_uri": "https://localhost:8080/"
        },
        "outputId": "a677ddc7-25e1-4b47-d07b-9c7169675f4e"
      },
      "execution_count": null,
      "outputs": [
        {
          "output_type": "stream",
          "name": "stdout",
          "text": [
            "Area of Rectangle: 15\n",
            "Can't instantiate abstract class Shape with abstract method area\n"
          ]
        }
      ]
    },
    {
      "cell_type": "markdown",
      "source": [
        "**10. Instance Methods (Dog Class)**\n",
        "\n",
        "sbse pehle maine Dog naam ki ek class banayi. Is class ka kaam hai dog objects (yaani kutto) ka structure define karna. Is class ke andar __init__() method banaya gaya jo ek special method hota hai—isko constructor bhi kehte hain. Jab bhi koi object is class ka banega, ye method automatically call hota hai.\n",
        "\n",
        "Constructor ke andar maine do parameters liye: name aur breed, jisko self ke through instance variables (self.name aur self.breed) mein store kiya gaya. Matlab har dog ka apna ek naam aur ek breed hoga jo object banate waqt assign kiya jaayega.\n",
        "\n",
        "Uske baad maine ek method banaya bark() naam ka. Ye method sirf print karta hai ke dog ka naam aur breed kya hai aur wo \"woof!\" bol raha hai. Ye behavior har dog object mein hoga.\n",
        "\n",
        "Phir maine dog1 naam ka object banaya Dog(\"Max\", \"Bulldog\") ke zariye. Iska matlab Max naam ka ek Bulldog banaya gaya. Jab dog1.bark() call kiya to output aaya:\n",
        "\"Max the Bulldog says woof!\"\n",
        "\n",
        "Isi tarah dog2 naam ka doosra object banaya Dog(\"Bella\", \"Golden Retriever\") ke zariye. Aur jab dog2.bark() call kiya to output aaya:\n",
        "\"Bella the Golden Retriever says woof!\""
      ],
      "metadata": {
        "id": "essZQ1ZT_tgv"
      }
    },
    {
      "cell_type": "code",
      "source": [
        "class Dog:\n",
        "    def __init__(self, name, breed):\n",
        "        self.name = name\n",
        "        self.breed = breed\n",
        "    def bark(self):\n",
        "        print(f\"{self.name} the {self.breed} says woof!\")\n",
        "dog1 = Dog(\"Max\", \"Bulldog\")\n",
        "dog1.bark()\n",
        "\n",
        "dog2 = Dog(\"Bella\", \"Golden Retriever\")\n",
        "dog2.bark()"
      ],
      "metadata": {
        "colab": {
          "base_uri": "https://localhost:8080/"
        },
        "id": "NDlXkc3o_s0w",
        "outputId": "a71531fd-6408-4a77-ddf3-9388b8b88f92"
      },
      "execution_count": null,
      "outputs": [
        {
          "output_type": "stream",
          "name": "stdout",
          "text": [
            "Max the Bulldog says woof!\n",
            "Bella the Golden Retriever says woof!\n"
          ]
        }
      ]
    },
    {
      "cell_type": "markdown",
      "source": [
        "**11. Class Methods (Book Class)**\n",
        "\n",
        "Sabse pehle maine Book naam ki ek class banayi. Is class ka kaam ye hai ke wo har book ka title aur author store kare aur ye track kare ke ab tak kitni total books ban chuki hain.\n",
        "\n",
        "Class ke andar sabse pehle ek class variable banaya gaya total_books, jiska initial value 0 rakha gaya. Ye variable sab objects ke liye common hota hai—iska matlab har nayi book banne par is value ko update karna hoga.\n",
        "\n",
        "Phir maine __init__() method banaya—ye ek constructor hai jo tab run hota hai jab hum Book ka naya object banate hain. Constructor ke andar maine title aur author ko self ke through instance variables banaya, jisse har book object apna title aur author yaad rakhta hai.\n",
        "\n",
        "Uske baad, har nayi book banne par Book.increment_book_count() call kiya gaya. Ye ek class method hai jo @classmethod decorator se likha gaya hai. Is method ke andar cls.total_books += 1 ka matlab hai har nayi book object banne par total_books mein 1 ka izafa ho jata hai.\n",
        "\n",
        "Phir ek aur class method banayi display_total_books(), jiska kaam hai ke screen par batana ke ab tak total kitni books ban chuki hain.\n",
        "\n",
        "Finally, maine do book objects banaye:\n",
        "\n",
        "book1 = Book(\"The Great Gatsby\", \"F. Scott Fitzgerald\")\n",
        "\n",
        "book2 = Book(\"1984\", \"George Orwell\")\n",
        "\n",
        "Jab ye dono objects ban gaye to total_books ki value 2 ho gayi. Uske baad jab Book.display_total_books() call kiya, to output aaya:\n",
        "\"Total books: 2\""
      ],
      "metadata": {
        "id": "agGpjC_h_8ME"
      }
    },
    {
      "cell_type": "code",
      "source": [
        "class Book:\n",
        "    total_books = 0\n",
        "\n",
        "    def __init__(self, title, author):\n",
        "        self.title = title\n",
        "        self.author = author\n",
        "        Book.increment_book_count()\n",
        "\n",
        "    @classmethod\n",
        "    def increment_book_count(cls):\n",
        "        cls.total_books += 1\n",
        "\n",
        "    @classmethod\n",
        "    def display_total_books(cls):\n",
        "        print(f\"Total books: {cls.total_books}\")\n",
        "\n",
        "book1 = Book(\"The Great Gatsby\", \"F. Scott Fitzgerald\")\n",
        "book2 = Book(\"1984\", \"George Orwell\")\n",
        "Book.display_total_books()"
      ],
      "metadata": {
        "id": "DXAITlMWAJpF",
        "colab": {
          "base_uri": "https://localhost:8080/"
        },
        "outputId": "e29b2615-d922-4b53-d898-b77037b38845"
      },
      "execution_count": null,
      "outputs": [
        {
          "output_type": "stream",
          "name": "stdout",
          "text": [
            "Total books: 2\n"
          ]
        }
      ]
    },
    {
      "cell_type": "markdown",
      "source": [
        "**12. Static Methods (TemperatureConverter Class)**\n",
        "\n",
        "Sabse pehle maine ek class banayi jiska naam rakha TemperatureConverter. Is class ka purpose hai ke temperature ko Celsius se Fahrenheit mein convert kiya ja sake.\n",
        "\n",
        "Is class ke andar maine ek static method banayi jiska naam hai celsius_to_fahrenheit. Static method wo hoti hai jo kisi specific object (yaani instance) ke bina bhi call ki ja sakti hai. Isliye maine is method pe @staticmethod decorator lagaya. Ye method ek parameter leti hai, c — jo Celsius temperature hota hai.\n",
        "\n",
        "(c * 9/5) + 32\n",
        "Ye formula Celsius ko Fahrenheit mein convert karne ke liye use hota hai.\n",
        "\n",
        "Uske baad, maine ek variable banaya celsius = 25, jo 25 degree Celsius represent karta hai.\n",
        "\n",
        "Phir maine TemperatureConverter.celsius_to_fahrenheit(celsius) method ko call karke conversion result liya aur usay fahrenheit variable mein store kar diya.\n",
        "\n",
        "Akhir mein, maine print statement lagayi jo batati hai: \"25°C is equal to 77.0°F\""
      ],
      "metadata": {
        "id": "IjO9ujg7ASKd"
      }
    },
    {
      "cell_type": "code",
      "source": [
        "class TemperatureConverter:\n",
        "    @staticmethod\n",
        "    def celsius_to_fahrenheit(c):\n",
        "        return (c * 9/5) + 32\n",
        "celsius = 25\n",
        "fahrenheit = TemperatureConverter.celsius_to_fahrenheit(celsius)\n",
        "print(f\"{celsius}°C is equal to {fahrenheit}°F\")"
      ],
      "metadata": {
        "id": "DYdvsryEAZ8v",
        "colab": {
          "base_uri": "https://localhost:8080/"
        },
        "outputId": "f59dbe67-035c-46ec-8830-c32dde82023a"
      },
      "execution_count": null,
      "outputs": [
        {
          "output_type": "stream",
          "name": "stdout",
          "text": [
            "25°C is equal to 77.0°F\n"
          ]
        }
      ]
    },
    {
      "cell_type": "markdown",
      "source": [
        "**13. Composition (Car and Engine)**\n",
        "\n",
        "Sabse pehle maine ek Engine class banayi. Iska kaam hai kisi bhi engine type ko handle karna. Jab Engine ka object banaya jata hai, to __init__ constructor ke zariye maine engine ka type (jaise \"V8\") initialize kiya aur self.engine_type mein store kar diya.\n",
        "\n",
        "Phir maine Engine class ke andar ek method banayi — start_engine(). Ye method jab bhi call hoti hai to ye print karti hai ke \"[engine_type] engine is now running.\" — yani engine chal gaya.\n",
        "\n",
        "Uske baad, maine ek Car class banayi. Iska constructor (__init__) teen parameters leta hai:\n",
        "\n",
        "make — car ka brand name (jaise \"Ford\")\n",
        "\n",
        "model — car ka model name (jaise \"Mustang\")\n",
        "\n",
        "engine — ek Engine class ka object (dependency injection)\n",
        "\n",
        "Ye sab properties self ke zariye object mein store kar li.\n",
        "\n",
        "Phir Car class ke andar ek method banayi — start_car(). Jab ye method call hoti hai, pehle to ye print karti hai ke: \"Starting the car: [make] [model]\"\n",
        "\n",
        "Phir is method ke andar self.engine.start_engine() likha gaya — yani car ka engine start karwane ke liye Engine class ka start_engine() method call kia.\n",
        "\n",
        "Object Creation aur Output:\n",
        "Ab humne engine = Engine(\"V8\") se ek engine banaya jo V8 type ka hai.\n",
        "\n",
        "Phir humne car = Car(\"Ford\", \"Mustang\", engine) se ek car ka object banaya jisme \"Ford\" make, \"Mustang\" model, aur pehle se banaya gaya engine diya.\n",
        "\n",
        "Akhir mein, jab humne car.start_car() call kia, to output aaya:"
      ],
      "metadata": {
        "id": "c53FFYaHAjMt"
      }
    },
    {
      "cell_type": "code",
      "source": [
        "class Engine:\n",
        "    def __init__(self, engine_type):\n",
        "        self.engine_type = engine_type\n",
        "\n",
        "    def start_engine(self):\n",
        "        print(f\"{self.engine_type} engine is now running.\")\n",
        "\n",
        "class Car:\n",
        "    def __init__(self, make, model, engine):\n",
        "        self.make = make\n",
        "        self.model = model\n",
        "        self.engine = engine\n",
        "\n",
        "    def start_car(self):\n",
        "        print(f\"Starting the car: {self.make} {self.model}\")\n",
        "        self.engine.start_engine()\n",
        "\n",
        "engine = Engine(\"V8\")\n",
        "car = Car(\"Ford\", \"Mustang\", engine)\n",
        "\n",
        "car.start_car()"
      ],
      "metadata": {
        "id": "OrdjduJMAqEb"
      },
      "execution_count": null,
      "outputs": []
    },
    {
      "cell_type": "markdown",
      "source": [
        "**14. Aggregation (Department and Employee)**\n",
        "\n",
        "abse pehle maine Employee naam ki class banayi. Ye class har employee ka naam aur uski position store karti hai.\n",
        "\n",
        "__init__ method ke zariye jab bhi koi Employee object banega, uske andar name aur position values save hongi using self.name aur self.position.\n",
        "\n",
        "Phir display_employee() method banaya jo print karta hai:\n",
        "🔹 Department Class\n",
        "Phir maine Department class banayi, jiska kaam hai ek department ka naam store karna aur us department ke andar jitne bhi employees hain unko ek list mein rakhna.\n",
        "\n",
        "__init__ method mein department_name initialize kiya aur ek empty list self.employees = [] banayi jisme employees add honge.\n",
        "\n",
        "Phir ek method add_employee() banayi, jisme kisi bhi employee object ko self.employees wali list mein append kar diya jata hai.\n",
        "\n",
        "Ek aur method display_department() banayi jo:\n",
        "\n",
        "Pehle department ka naam print karti hai.\n",
        "\n",
        "Phir jitne bhi employees is department mein hain, un sab ka display_employee() method call karti hai taake sab ki info screen par aaye.\n",
        "\n",
        "🧑‍💻 Object Creation & Output Flow:\n",
        "emp1 = Employee(\"Saira\", \"Manager\") — ek employee object banaya Saira ke liye jo Manager hai.\n",
        "\n",
        "emp2 = Employee(\"Nasir\", \"Developer\") — doosra employee Nasir jo Developer hai.\n",
        "\n",
        "department = Department(\"IT\") — ek department banaya jiska naam \"IT\" hai.\n",
        "\n",
        "department.add_employee(emp1) — Saira ko IT department mein add kiya.\n",
        "\n",
        "department.add_employee(emp2) — Nasir ko bhi usi department mein add kiya.\n",
        "\n",
        "department.display_department() call karte hi:\n",
        "\n",
        "Department: IT\n",
        "Employee: Saira, Position: Manager\n",
        "Employee: Nasir, Position: Developer\n",
        "Ye output screen par aata hai — yani IT department ke saare employees ki details properly print hoti hain"
      ],
      "metadata": {
        "id": "YHw34XHPA9kY"
      }
    },
    {
      "cell_type": "code",
      "source": [
        "class Employee:\n",
        "    def __init__(self, name, position):\n",
        "        self.name = name\n",
        "        self.position = position\n",
        "\n",
        "    def display_employee(self):\n",
        "        print(f\"Employee: {self.name}, Position: {self.position}\")\n",
        "\n",
        "class Department:\n",
        "    def __init__(self, department_name):\n",
        "        self.department_name = department_name\n",
        "        self.employees = []\n",
        "\n",
        "    def add_employee(self, employee):\n",
        "        self.employees.append(employee)\n",
        "\n",
        "    def display_department(self):\n",
        "        print(f\"Department: {self.department_name}\")\n",
        "        for employee in self.employees:\n",
        "            employee.display_employee()\n",
        "\n",
        "emp1 = Employee(\"Saira\", \"Manager\")\n",
        "emp2 = Employee(\"NAsir\", \"Developer\")\n",
        "\n",
        "department = Department(\"IT\")\n",
        "department.add_employee(emp1)\n",
        "department.add_employee(emp2)\n",
        "\n",
        "department.display_department()"
      ],
      "metadata": {
        "id": "ykA15R-pA_qp",
        "colab": {
          "base_uri": "https://localhost:8080/"
        },
        "outputId": "6e308283-5305-4669-edf9-3e819d6bf174"
      },
      "execution_count": null,
      "outputs": [
        {
          "output_type": "stream",
          "name": "stdout",
          "text": [
            "Department: IT\n",
            "Employee: John, Position: Manager\n",
            "Employee: Sarah, Position: Developer\n"
          ]
        }
      ]
    },
    {
      "cell_type": "markdown",
      "source": [
        "**15. Method Resolution Order (MRO) and Diamond Inheritance**\n",
        "\n",
        "sab se pehle, maine aik class A banayi, jisme aik simple method show define kiya jo \"Class A\" print karta hai. Ye method class A ke objects par call hoga, aur jab call kiya jayega to \"Class A\" output mein dikhai dega. Uske baad, maine class B banayi jo class A ko inherit karti hai. Inheritance ka matlab hai ke class B, class A ke sare methods aur properties apne andar le leti hai. Lekin, maine class B mein show method ko override kiya, yani class B ka apna show() method hai jo \"Class B\" print karega. Isi tarah, maine class C banayi, jo bhi class A ko inherit karti hai aur isme bhi show method ko override karke \"Class C\" print karwaya.\n",
        "\n",
        "Phir, maine class D banayi, jo multiple inheritance ka use karti hai, yani is class mein class B aur class C dono ka code merge hota hai. Yahan bhi maine show method ko override kiya, aur class D ka apna method define kiya jo \"Class D\" print karega. Jab maine class D ka object banaya aur us par show() method call kiya, to output mein \"Class D\" print hua. Yeh isliye hua ke class D ka show() method sab se zyada priority rakhta hai, aur usi ka code execute hota hai jab method call kiya jata hai. Yeh example method overriding aur multiple inheritance ko demonstrate karta hai, jahan ek hi method different classes mein alag-alag behavior show karta hai.\n",
        "\n",
        "Aap ka agla code bhej sakti hain!"
      ],
      "metadata": {
        "id": "SqMSAtunBGbG"
      }
    },
    {
      "cell_type": "code",
      "source": [
        "class A:\n",
        "    def show(self):\n",
        "        print(\"Class A\")\n",
        "\n",
        "class B(A):\n",
        "    def show(self):\n",
        "        print(\"Class B\")\n",
        "\n",
        "class C(A):\n",
        "    def show(self):\n",
        "        print(\"Class C\")\n",
        "\n",
        "class D(B, C):\n",
        "    def show(self):\n",
        "        print(\"Class D\")\n",
        "d = D()\n",
        "d.show()"
      ],
      "metadata": {
        "colab": {
          "base_uri": "https://localhost:8080/"
        },
        "id": "sYpDoy2NBOQg",
        "outputId": "9fdf8dab-7682-4511-9000-e616bebcb499"
      },
      "execution_count": null,
      "outputs": [
        {
          "output_type": "stream",
          "name": "stdout",
          "text": [
            "Class D\n"
          ]
        }
      ]
    },
    {
      "cell_type": "markdown",
      "source": [
        "**16. Function Decorators (log_function_call)**\n",
        "\n",
        "ab se pehle, mene aik decorator function banaya, jiska naam log_function_call rakha. Is function ka kaam ye hai ke ye kisi bhi function ko wrap karega aur usse pehle ek message print karega. Yeh function func ko argument ke taur par leta hai, jo us function ko represent karta hai jise decorate karna hai.\n",
        "ek naya function define hota hai jo func ke execution se pehle \"Function is being called\" print karta hai. Phir ye func ko call karta hai aur jo bhi arguments us function ko diye jaayen, unhe pass karta hai. Jab log_function_call function execute hota hai, to wo wrapper function ko return karta hai, jisse func ke operation ko wrap kiya jata hai.\n",
        "\n",
        "Uske baad, mene function say_hello define kiya jo ek argument name leta hai aur usse hello message ke saath print karta hai.\n",
        "\n",
        "@log_function_call decorator ko say_hello function par apply kiya gaya hai, jiska matlab hai jab say_hello function call hoga, to pehle log_function_call function execute hoga. Is decorator ki wajah se say_hello ka original behavior change ho jata hai. Is decorator ka pehla kaam ye hai ke wo \"Function is being called\" print karega aur phir say_hello ko call karega.\n",
        "\n",
        "Jab say_hello(\"Saira\") execute hota hai, to output mein pehle \"Function is being called\" print hota hai, phir \"Hello, Saira!\" print hota hai. Is tarah, decorator ki madad se humne ek simple functionality ko extend kiya aur usme ek extra behavior add kiya.\n",
        "\n",
        "To jab hum say_hello call karte hain, to pehla message \"Function is being called\" print hota hai, aur phir \"Hello, Saira!\" dikhayi deta hai. Yeh is baat ka example hai ke kaise hum decorators ka use karke kisi function ki behavior ko modify kar sakte hain."
      ],
      "metadata": {
        "id": "jvCX9Y8wBZBA"
      }
    },
    {
      "cell_type": "code",
      "source": [
        "def log_function_call(func):\n",
        "    def wrapper(*args, **kwargs):\n",
        "        print(\"Function is being called\")\n",
        "        return func(*args, **kwargs)\n",
        "    return wrapper\n",
        "\n",
        "@log_function_call\n",
        "def say_hello(name):\n",
        "    print(f\"Hello, {name}!\")\n",
        "\n",
        "say_hello(\"Saira\")"
      ],
      "metadata": {
        "id": "aVVDCuCRBpje"
      },
      "execution_count": null,
      "outputs": []
    },
    {
      "cell_type": "markdown",
      "source": [
        "**17. Class Decorators (add_greeting)**\n",
        "\n",
        "Sab se pehle, maine aik decorator function banaya, jiska naam add_greeting rakha. Yeh decorator kisi bhi class ke upar apply ho sakta hai aur us class ko ek nayi functionality de sakta hai. Is decorator mein maine aik greet method define kiya jo \"Hello from Decorator!\" return karta hai. Fir maine is method ko cls (class) ke andar add kar diya. Iska matlab hai ke jab bhi hum is decorator ko kisi class ke upar apply karenge, wo class automatically greet method ko apne andar include kar legi.\n",
        "\n",
        "Uske baad, maine ek class Person banayi, jisme aik __init__ method tha jo class ke objects ka naam initialize karta hai. Jab @add_greeting decorator ko Person class ke upar apply kiya gaya, to is class ko greet method mil gaya jo pehle is class mein nahi tha.\n",
        "\n",
        "Phir, maine Person class ka ek object person banaya, aur us object pe greet() method call kiya. Is method ki wajah se \"Hello from Decorator!\" message print hua, jo decorator ke through Person class mein add ho gaya tha.\n",
        "\n",
        "Is example mein decorators ka use karke humne class ke behavior ko extend kiya. Humne add_greeting decorator ke zariye Person class mein ek naya greet method add kiya jo original class ke behavior ko modify karta hai."
      ],
      "metadata": {
        "id": "bKh0BwHLCsIE"
      }
    },
    {
      "cell_type": "code",
      "source": [
        "def add_greeting(cls):\n",
        "    def greet(self):\n",
        "        return \"Hello from Decorator!\"\n",
        "\n",
        "    cls.greet = greet\n",
        "    return cls\n",
        "\n",
        "@add_greeting\n",
        "class Person:\n",
        "    def __init__(self, name):\n",
        "            self.name = name\n",
        "\n",
        "person = Person(\"Saira\")\n",
        "print(person.greet())\n"
      ],
      "metadata": {
        "colab": {
          "base_uri": "https://localhost:8080/"
        },
        "id": "0hC792juC0de",
        "outputId": "aa2b9bb5-0e77-4935-bc0a-ddfad648638b"
      },
      "execution_count": null,
      "outputs": [
        {
          "output_type": "stream",
          "name": "stdout",
          "text": [
            "Hello from Decorator!\n"
          ]
        }
      ]
    },
    {
      "cell_type": "markdown",
      "source": [
        "**18. Property Decorators: @property, @setter, and @deleter**\n",
        "\n",
        "Sab se pehle, maine Product naam ki class banayi, jo ek price attribute ko manage karti hai. Jab is class ka object banaya jata hai, to class ka __init__ method execute hota hai jo price ko initialize karta hai. Yahaan par _price ek private variable banaya gaya hai, jisme actual price store hoti hai.\n",
        "\n",
        "Uske baad, @property decorator ka use kiya gaya hai. Yeh decorator getter method create karta hai jo price ko access karta hai. Matlab jab bhi hum product.price likhenge, to yeh self._price ki value return karega. Yeh ek clean tareeqa hai data ko access karne ka.\n",
        "\n",
        "Uske baad, @price.setter decorator ko use karke setter method banaya gaya hai. Yeh method allow karta hai humko price ko update karne ka. Lekin is method mein ek validation bhi include ki gayi hai: agar price ki value negative ho, to \"Price cannot be negative!\" message print hoga. Agar price valid ho (positive number), to self._price ko update kiya jayega.\n",
        "\n",
        "Phir @price.deleter decorator use karke deleter method define kiya gaya hai. Yeh method price ko delete karne ka kaam karta hai. Jab hum del product.price likhenge, to yeh method execute hoga, jo \"Price is being deleted.\" print karega aur price attribute ko delete kar dega.\n",
        "\n",
        "Is tarah, is code mein maine property decorators ka use kiya taake price attribute ko access, modify, aur delete karte waqt hum logic add kar sakein. Yeh approach isliye achi hai kyunki hum data validation, error handling, aur custom behavior ko easily implement kar sakte hain without directly modifying the attribute."
      ],
      "metadata": {
        "id": "xHHxY7fdC9wT"
      }
    },
    {
      "cell_type": "code",
      "source": [
        "class Product:\n",
        "    def __init__(self, price):\n",
        "        self._price = price\n",
        "\n",
        "    @property\n",
        "    def price(self):\n",
        "        return self._price\n",
        "\n",
        "    @price.setter\n",
        "    def price(self, value):\n",
        "        if value < 0:\n",
        "            print(\"Price cannot be negative!\")\n",
        "        else:\n",
        "            self._price = value\n",
        "\n",
        "    @price.deleter\n",
        "    def price(self):\n",
        "        print(\"Price is being deleted.\")\n",
        "        del self._price\n",
        "\n",
        "product = Product(100)\n",
        "print(product.price)\n",
        "\n",
        "product.price = 150\n",
        "print(product.price)\n",
        "\n",
        "product.price = -50\n",
        "\n",
        "del product.price"
      ],
      "metadata": {
        "colab": {
          "base_uri": "https://localhost:8080/"
        },
        "id": "tfc7E3aADIyP",
        "outputId": "873305a9-5a8e-4fd4-c5cd-b6a27228b6ea"
      },
      "execution_count": null,
      "outputs": [
        {
          "output_type": "stream",
          "name": "stdout",
          "text": [
            "100\n",
            "150\n",
            "Price cannot be negative!\n",
            "Price is being deleted.\n"
          ]
        }
      ]
    },
    {
      "cell_type": "markdown",
      "source": [
        "**19. callable() and call()**\n",
        "\n",
        "Sab se pehle, maine aik Multiplier class banayi, jo kisi number ko ek specific factor ke saath multiply karti hai. Jab Multiplier class ka object banaya jata hai, to __init__ method ke zariye ek factor initialize hota hai, jo multiply karne wali value hoti hai.\n",
        "\n",
        "Uske baad, __call__ method ko define kiya gaya. Yeh method ek special method hai jo object ko directly function ki tarah call karne ki ijazat deta hai. Iska matlab yeh hai ke jab hum class ka object use karte hain jaise ek function (for example: multiply_by_2(5)), to yeh method execute hota hai. Is method ka kaam hai input number ko factor ke saath multiply karna aur result return karna.\n",
        "\n",
        "Fir maine do alag objects banaye: multiply_by_2 aur multiply_by_3, jo different factors (2 aur 3) ko represent karte hain. Yeh dono objects ab callable hain, yani inhe hum function ki tarah use kar sakte hain.\n",
        "\n",
        "Phir, callable() function ko use karke humne check kiya ke kya yeh objects callable hain, jo True return karte hain, kyunki dono objects __call__ method ko implement karte hain.\n",
        "\n",
        "Akhir mein, jab hum multiply_by_2(5) ya multiply_by_3(5) likhte hain, to __call__ method execute hota hai aur 5 ko respective factor ke saath multiply karke result return hota hai. Pehli case mein 5 * 2 = 10 hota hai, aur doosri case mein 5 * 3 = 15 hota hai."
      ],
      "metadata": {
        "id": "TRlKUrYbDhrM"
      }
    },
    {
      "cell_type": "code",
      "source": [
        "class Multiplier:\n",
        "    def __init__(self, factor):\n",
        "        self.factor = factor\n",
        "\n",
        "    def __call__(self, number):\n",
        "        return number * self.factor\n",
        "\n",
        "multiply_by_2 = Multiplier(2)\n",
        "multiply_by_3 = Multiplier(3)\n",
        "print(callable(multiply_by_2))\n",
        "print(callable(multiply_by_3))\n",
        "print(multiply_by_2(5))\n",
        "print(multiply_by_3(5))"
      ],
      "metadata": {
        "colab": {
          "base_uri": "https://localhost:8080/"
        },
        "id": "0NeKZod9DtNm",
        "outputId": "ad04dc55-9ada-4740-cdfc-4ae16d845e04"
      },
      "execution_count": null,
      "outputs": [
        {
          "output_type": "stream",
          "name": "stdout",
          "text": [
            "True\n",
            "True\n",
            "10\n",
            "15\n"
          ]
        }
      ]
    },
    {
      "cell_type": "markdown",
      "source": [
        "**20. Creating a Custom Exception (InvalidAgeError)**\n",
        "\n",
        "ab se pehle, maine InvalidAgeError naam se ek custom exception class banayi jo Exception class se inherit karti hai. Yeh custom exception us waqt raise ki jayegi jab koi invalid age pass ki jaye, yani jab age 18 se kam ho. Yeh class sirf pass keyword use karti hai, jo us class ko ek placeholder bana deta hai, taake hum apne exception ko customize kar sakein agar zaroorat ho.\n",
        "\n",
        "Uske baad, maine check_age naam ka function banaya hai. Yeh function input age ko check karta hai. Agar age 18 se kam hai, to function InvalidAgeError exception raise karta hai, aur iske sath ek error message bhi pass karta hai: \"Age must be 18 or older\". Agar age valid hai (18 ya usse zyada), to function \"Age is valid\" print karta hai.\n",
        "\n",
        "Phir, maine try-except block use kiya hai. Is block mein pehle check_age(15) function call kiya gaya hai. Kyunki age 15 hai, jo invalid hai, to InvalidAgeError raise hoti hai. except InvalidAgeError as e part is exception ko handle karta hai, aur error message ko print(f\"Error: {e}\") ki madad se display karta hai.\n",
        "Uske baad, check_age(20) call kiya jata hai, jisme age valid hai, isliye function \"Age is valid\" print karega."
      ],
      "metadata": {
        "id": "E0n3oliID4tf"
      }
    },
    {
      "cell_type": "code",
      "source": [
        "class InvalidAgeError(Exception):\n",
        "    pass\n",
        "\n",
        "def check_age(age):\n",
        "    if age < 18:\n",
        "        raise InvalidAgeError(\"Age must be 18 or older\")\n",
        "    else:\n",
        "        print(\"Age is valid\")\n",
        "\n",
        "try:\n",
        "    check_age(15)\n",
        "except InvalidAgeError as e:\n",
        "    print(f\"Error: {e}\")\n",
        "\n",
        "check_age(20)\n"
      ],
      "metadata": {
        "colab": {
          "base_uri": "https://localhost:8080/"
        },
        "id": "SMejHxJaD9e-",
        "outputId": "a70dba18-85b1-4093-92d0-d798a72ea998"
      },
      "execution_count": null,
      "outputs": [
        {
          "output_type": "stream",
          "name": "stdout",
          "text": [
            "Error: Age must be 18 or older\n",
            "Age is valid\n"
          ]
        }
      ]
    },
    {
      "cell_type": "markdown",
      "source": [
        "**21. Make a Custom Class Iterable (Countdown)**\n",
        "\n",
        "ab se pehle, maine Countdown naam ki class banayi, jo ek countdown create karti hai, jisme hum starting value set kar sakte hain. Jab hum Countdown class ka object banate hain, to __init__ method execute hota hai, jisme start value ko initialize kiya jata hai. Yeh start wo initial value hai jahan se countdown shuru hoga.\n",
        "\n",
        "Uske baad, __iter__ method ko define kiya gaya hai. Yeh method iterator ko return karta hai. Iska kaam hai iterable object ko prepare karna. Jab hum for loop mein countdown object ko iterate karte hain, to pehli baar __iter__ method call hota hai. Is method mein hum self.current ko self.start se initialize karte hain, jo humare countdown ka current value hoga.\n",
        "\n",
        "Phir, __next__ method define kiya gaya hai. Yeh method actual next value return karta hai jab iteration hota hai. Agar self.current ki value 0 ya usse kam ho jati hai, to yeh StopIteration exception raise karta hai, jo iteration ko stop kar deta hai. Agar value positive hoti hai, to countdown ek step kam hota hai (i.e., self.current -= 1) aur us updated value ko return karta hai.\n",
        "Akhir mein, countdown = Countdown(5) ka object banaya gaya hai, jisme countdown 5 se start hota hai. Jab hum for num in countdown: likhte hain, to __iter__ method call hota hai aur phir __next__ method har iteration par call hota hai, jab tak countdown 0 tak na pahuch jaye. Har iteration mein current value print hoti hai.\n"
      ],
      "metadata": {
        "id": "HHO_egxOEF4S"
      }
    },
    {
      "cell_type": "code",
      "source": [
        "class Countdown:\n",
        "    def __init__(self, start):\n",
        "        self.start = start\n",
        "\n",
        "    def __iter__(self):\n",
        "        self.current = self.start\n",
        "        return self\n",
        "\n",
        "    def __next__(self):\n",
        "        if self.current <= 0:\n",
        "            raise StopIteration\n",
        "        else:\n",
        "            self.current -= 1\n",
        "            return self.current\n",
        "\n",
        "countdown = Countdown(5)\n",
        "\n",
        "for num in countdown:\n",
        "    print(num)\n"
      ],
      "metadata": {
        "colab": {
          "base_uri": "https://localhost:8080/"
        },
        "id": "Mxko7R3oEOYH",
        "outputId": "76534f44-3fd4-4269-baf1-a6cd34043afc"
      },
      "execution_count": null,
      "outputs": [
        {
          "output_type": "stream",
          "name": "stdout",
          "text": [
            "4\n",
            "3\n",
            "2\n",
            "1\n",
            "0\n"
          ]
        }
      ]
    }
  ]
}